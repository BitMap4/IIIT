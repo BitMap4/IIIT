{
 "cells": [
  {
   "cell_type": "code",
   "execution_count": 46,
   "metadata": {},
   "outputs": [
    {
     "name": "stderr",
     "output_type": "stream",
     "text": [
      "[nltk_data] Downloading package names to /home/bitmap4/nltk_data...\n",
      "[nltk_data]   Package names is already up-to-date!\n"
     ]
    }
   ],
   "source": [
    "import nltk\n",
    "from nltk.corpus import names\n",
    "nltk.download(\"names\")\n",
    "import random"
   ]
  },
  {
   "cell_type": "code",
   "execution_count": 47,
   "metadata": {},
   "outputs": [
    {
     "name": "stdout",
     "output_type": "stream",
     "text": [
      "[('Aamir', 'male'), ('Aaron', 'male'), ('Abbey', 'male'), ('Abbie', 'male'), ('Abbot', 'male'), ('Abbott', 'male'), ('Abby', 'male'), ('Abdel', 'male'), ('Abdul', 'male'), ('Abdulkarim', 'male')]\n"
     ]
    }
   ],
   "source": [
    "labelled_names =  [(name, \"male\")   for name in names.words(\"male.txt\")]\n",
    "labelled_names += [(name, \"female\") for name in names.words(\"female.txt\")]\n",
    "print(labelled_names[:10])\n"
   ]
  },
  {
   "cell_type": "code",
   "execution_count": 48,
   "metadata": {},
   "outputs": [
    {
     "name": "stdout",
     "output_type": "stream",
     "text": [
      "[('Tamara', 'female'), ('Vivi', 'female'), ('Georgie', 'male'), ('Meagan', 'female'), ('Janaye', 'female'), ('Rafaela', 'female'), ('Oralla', 'female'), ('Cori', 'female'), ('Quincy', 'male'), ('Boyd', 'male')]\n"
     ]
    }
   ],
   "source": [
    "random.shuffle(labelled_names)\n",
    "print(labelled_names[:10])"
   ]
  },
  {
   "cell_type": "markdown",
   "metadata": {},
   "source": [
    "### Defining Gender Features"
   ]
  },
  {
   "cell_type": "code",
   "execution_count": 120,
   "metadata": {},
   "outputs": [],
   "source": [
    "def gender_features(name):\n",
    "    return {\"last_two_letters\": name[-2:], 'vowel_count': sum(1 for letter in name if letter.lower() in 'aeiou')}"
   ]
  },
  {
   "cell_type": "code",
   "execution_count": 121,
   "metadata": {},
   "outputs": [
    {
     "name": "stdout",
     "output_type": "stream",
     "text": [
      "[({'last_two_letters': 'ra', 'vowel_count': 3}, 'female'), ({'last_two_letters': 'vi', 'vowel_count': 2}, 'female'), ({'last_two_letters': 'ie', 'vowel_count': 4}, 'male'), ({'last_two_letters': 'an', 'vowel_count': 3}, 'female'), ({'last_two_letters': 'ye', 'vowel_count': 3}, 'female'), ({'last_two_letters': 'la', 'vowel_count': 4}, 'female'), ({'last_two_letters': 'la', 'vowel_count': 3}, 'female'), ({'last_two_letters': 'ri', 'vowel_count': 2}, 'female'), ({'last_two_letters': 'cy', 'vowel_count': 2}, 'male'), ({'last_two_letters': 'yd', 'vowel_count': 1}, 'male')]\n"
     ]
    }
   ],
   "source": [
    "feature_sets = [(gender_features(name), gender) for (name, gender) in labelled_names]\n",
    "print(feature_sets[:10])"
   ]
  },
  {
   "cell_type": "markdown",
   "metadata": {},
   "source": [
    "### Splitting into training, testing and dev datasets"
   ]
  },
  {
   "cell_type": "code",
   "execution_count": 122,
   "metadata": {},
   "outputs": [
    {
     "name": "stdout",
     "output_type": "stream",
     "text": [
      "6944 500 500\n"
     ]
    }
   ],
   "source": [
    "train_set, dev_set, test_set = feature_sets[1000:], feature_sets[500:1000], feature_sets[:500]\n",
    "print(len(train_set), len(dev_set), len(test_set))"
   ]
  },
  {
   "cell_type": "markdown",
   "metadata": {},
   "source": [
    "### Training the classifier"
   ]
  },
  {
   "cell_type": "code",
   "execution_count": 123,
   "metadata": {},
   "outputs": [],
   "source": [
    "classifier = nltk.NaiveBayesClassifier.train(train_set)"
   ]
  },
  {
   "cell_type": "code",
   "execution_count": 151,
   "metadata": {},
   "outputs": [
    {
     "data": {
      "text/plain": [
       "'female'"
      ]
     },
     "execution_count": 151,
     "metadata": {},
     "output_type": "execute_result"
    }
   ],
   "source": [
    "classifier.classify(gender_features(\"ishaan romil\"))"
   ]
  },
  {
   "cell_type": "code",
   "execution_count": 125,
   "metadata": {},
   "outputs": [
    {
     "data": {
      "text/plain": [
       "0.768"
      ]
     },
     "execution_count": 125,
     "metadata": {},
     "output_type": "execute_result"
    }
   ],
   "source": [
    "nltk.classify.accuracy(classifier, dev_set)"
   ]
  },
  {
   "cell_type": "markdown",
   "metadata": {},
   "source": [
    "### Likelihood Ratios"
   ]
  },
  {
   "cell_type": "code",
   "execution_count": 126,
   "metadata": {},
   "outputs": [
    {
     "name": "stdout",
     "output_type": "stream",
     "text": [
      "Most Informative Features\n",
      "        last_two_letters = 'na'           female : male   =    157.2 : 1.0\n",
      "        last_two_letters = 'la'           female : male   =     70.3 : 1.0\n",
      "        last_two_letters = 'ia'           female : male   =     37.0 : 1.0\n",
      "        last_two_letters = 'ra'           female : male   =     35.0 : 1.0\n",
      "        last_two_letters = 'rt'             male : female =     33.0 : 1.0\n",
      "        last_two_letters = 'rd'             male : female =     29.2 : 1.0\n",
      "        last_two_letters = 'us'             male : female =     25.9 : 1.0\n",
      "        last_two_letters = 'do'             male : female =     23.9 : 1.0\n",
      "        last_two_letters = 'ta'           female : male   =     23.0 : 1.0\n",
      "        last_two_letters = 'ld'             male : female =     21.0 : 1.0\n"
     ]
    }
   ],
   "source": [
    "classifier.show_most_informative_features()"
   ]
  },
  {
   "cell_type": "markdown",
   "metadata": {},
   "source": [
    "### Errors"
   ]
  },
  {
   "cell_type": "code",
   "execution_count": 127,
   "metadata": {},
   "outputs": [
    {
     "name": "stdout",
     "output_type": "stream",
     "text": [
      "Tag: female\tGuess: male\tName: Hildegaard\n",
      "Tag: male\tGuess: female\tName: Dana\n",
      "Tag: female\tGuess: male\tName: Nert\n"
     ]
    }
   ],
   "source": [
    "errors= []\n",
    "for (feature, tag), (name, tag) in zip(dev_set, labelled_names[500:1000]):\n",
    "    guess = classifier.classify(feature)\n",
    "    if guess != tag:\n",
    "        errors.append((tag, guess, name))\n",
    "\n",
    "for error in errors:\n",
    "    if error[2][-2:] in (\"na\", \"la\", \"ia\", \"ra\", \"rt\", \"rd\"):\n",
    "        print(f'Tag: {error[0]}\\tGuess: {error[1]}\\tName: {error[2]}')"
   ]
  }
 ],
 "metadata": {
  "kernelspec": {
   "display_name": "Python 3",
   "language": "python",
   "name": "python3"
  },
  "language_info": {
   "codemirror_mode": {
    "name": "ipython",
    "version": 3
   },
   "file_extension": ".py",
   "mimetype": "text/x-python",
   "name": "python",
   "nbconvert_exporter": "python",
   "pygments_lexer": "ipython3",
   "version": "3.10.12"
  }
 },
 "nbformat": 4,
 "nbformat_minor": 2
}
