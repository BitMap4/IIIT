{
 "cells": [
  {
   "cell_type": "code",
   "execution_count": 22,
   "metadata": {},
   "outputs": [
    {
     "name": "stdout",
     "output_type": "stream",
     "text": [
      "Defaulting to user installation because normal site-packages is not writeable\n",
      "Collecting OpenNMT-py==1.2.0\n",
      "  Downloading OpenNMT_py-1.2.0-py3-none-any.whl (195 kB)\n",
      "\u001b[2K     \u001b[90m━━━━━━━━━━━━━━━━━━━━━━━━━━━━━━━━━━━━━━━\u001b[0m \u001b[32m195.2/195.2 KB\u001b[0m \u001b[31m1.3 MB/s\u001b[0m eta \u001b[36m0:00:00\u001b[0m00:01\u001b[0m00:01\u001b[0m\n",
      "\u001b[?25hRequirement already satisfied: six in /usr/lib/python3/dist-packages (from OpenNMT-py==1.2.0) (1.16.0)\n",
      "Collecting torchtext==0.4.0\n",
      "  Downloading torchtext-0.4.0-py3-none-any.whl (53 kB)\n",
      "\u001b[2K     \u001b[90m━━━━━━━━━━━━━━━━━━━━━━━━━━━━━━━━━━━━━━━━\u001b[0m \u001b[32m53.1/53.1 KB\u001b[0m \u001b[31m2.4 MB/s\u001b[0m eta \u001b[36m0:00:00\u001b[0m\n",
      "\u001b[?25hRequirement already satisfied: tensorboard>=1.14 in /home/bitmap4/.local/lib/python3.10/site-packages (from OpenNMT-py==1.2.0) (2.16.2)\n",
      "Collecting future\n",
      "  Downloading future-1.0.0-py3-none-any.whl (491 kB)\n",
      "\u001b[2K     \u001b[90m━━━━━━━━━━━━━━━━━━━━━━━━━━━━━━━━━━━━━━━\u001b[0m \u001b[32m491.3/491.3 KB\u001b[0m \u001b[31m4.6 MB/s\u001b[0m eta \u001b[36m0:00:00\u001b[0m00:01\u001b[0m00:01\u001b[0m\n",
      "\u001b[?25hRequirement already satisfied: configargparse in /home/bitmap4/.local/lib/python3.10/site-packages (from OpenNMT-py==1.2.0) (1.7)\n",
      "Requirement already satisfied: torch>=1.6.0 in /home/bitmap4/.local/lib/python3.10/site-packages (from OpenNMT-py==1.2.0) (2.2.2)\n",
      "Requirement already satisfied: pyonmttok==1.* in /home/bitmap4/.local/lib/python3.10/site-packages (from OpenNMT-py==1.2.0) (1.37.1)\n",
      "Requirement already satisfied: tqdm in /home/bitmap4/.local/lib/python3.10/site-packages (from OpenNMT-py==1.2.0) (4.66.1)\n",
      "Requirement already satisfied: flask in /home/bitmap4/.local/lib/python3.10/site-packages (from OpenNMT-py==1.2.0) (3.0.0)\n",
      "Requirement already satisfied: waitress in /home/bitmap4/.local/lib/python3.10/site-packages (from OpenNMT-py==1.2.0) (3.0.0)\n",
      "Requirement already satisfied: pyyaml in /usr/lib/python3/dist-packages (from OpenNMT-py==1.2.0) (5.4.1)\n",
      "Requirement already satisfied: requests in /home/bitmap4/.local/lib/python3.10/site-packages (from torchtext==0.4.0->OpenNMT-py==1.2.0) (2.31.0)\n",
      "Requirement already satisfied: numpy in /home/bitmap4/.local/lib/python3.10/site-packages (from torchtext==0.4.0->OpenNMT-py==1.2.0) (1.24.3)\n",
      "Requirement already satisfied: absl-py>=0.4 in /home/bitmap4/.local/lib/python3.10/site-packages (from tensorboard>=1.14->OpenNMT-py==1.2.0) (2.1.0)\n",
      "Requirement already satisfied: werkzeug>=1.0.1 in /home/bitmap4/.local/lib/python3.10/site-packages (from tensorboard>=1.14->OpenNMT-py==1.2.0) (3.0.1)\n",
      "Requirement already satisfied: markdown>=2.6.8 in /home/bitmap4/.local/lib/python3.10/site-packages (from tensorboard>=1.14->OpenNMT-py==1.2.0) (3.6)\n",
      "Requirement already satisfied: setuptools>=41.0.0 in /usr/lib/python3/dist-packages (from tensorboard>=1.14->OpenNMT-py==1.2.0) (59.6.0)\n",
      "Requirement already satisfied: protobuf!=4.24.0,>=3.19.6 in /home/bitmap4/.local/lib/python3.10/site-packages (from tensorboard>=1.14->OpenNMT-py==1.2.0) (5.26.1)\n",
      "Requirement already satisfied: grpcio>=1.48.2 in /home/bitmap4/.local/lib/python3.10/site-packages (from tensorboard>=1.14->OpenNMT-py==1.2.0) (1.63.0)\n",
      "Requirement already satisfied: tensorboard-data-server<0.8.0,>=0.7.0 in /home/bitmap4/.local/lib/python3.10/site-packages (from tensorboard>=1.14->OpenNMT-py==1.2.0) (0.7.2)\n",
      "Requirement already satisfied: nvidia-nvtx-cu12==12.1.105 in /home/bitmap4/.local/lib/python3.10/site-packages (from torch>=1.6.0->OpenNMT-py==1.2.0) (12.1.105)\n",
      "Requirement already satisfied: networkx in /home/bitmap4/.local/lib/python3.10/site-packages (from torch>=1.6.0->OpenNMT-py==1.2.0) (3.2.1)\n",
      "Requirement already satisfied: nvidia-cusolver-cu12==11.4.5.107 in /home/bitmap4/.local/lib/python3.10/site-packages (from torch>=1.6.0->OpenNMT-py==1.2.0) (11.4.5.107)\n",
      "Requirement already satisfied: fsspec in /home/bitmap4/.local/lib/python3.10/site-packages (from torch>=1.6.0->OpenNMT-py==1.2.0) (2024.3.1)\n",
      "Requirement already satisfied: nvidia-cuda-runtime-cu12==12.1.105 in /home/bitmap4/.local/lib/python3.10/site-packages (from torch>=1.6.0->OpenNMT-py==1.2.0) (12.1.105)\n",
      "Requirement already satisfied: nvidia-cufft-cu12==11.0.2.54 in /home/bitmap4/.local/lib/python3.10/site-packages (from torch>=1.6.0->OpenNMT-py==1.2.0) (11.0.2.54)\n",
      "Requirement already satisfied: typing-extensions>=4.8.0 in /home/bitmap4/.local/lib/python3.10/site-packages (from torch>=1.6.0->OpenNMT-py==1.2.0) (4.9.0)\n",
      "Requirement already satisfied: nvidia-cuda-nvrtc-cu12==12.1.105 in /home/bitmap4/.local/lib/python3.10/site-packages (from torch>=1.6.0->OpenNMT-py==1.2.0) (12.1.105)\n",
      "Requirement already satisfied: nvidia-cudnn-cu12==8.9.2.26 in /home/bitmap4/.local/lib/python3.10/site-packages (from torch>=1.6.0->OpenNMT-py==1.2.0) (8.9.2.26)\n",
      "Requirement already satisfied: triton==2.2.0 in /home/bitmap4/.local/lib/python3.10/site-packages (from torch>=1.6.0->OpenNMT-py==1.2.0) (2.2.0)\n",
      "Requirement already satisfied: nvidia-cuda-cupti-cu12==12.1.105 in /home/bitmap4/.local/lib/python3.10/site-packages (from torch>=1.6.0->OpenNMT-py==1.2.0) (12.1.105)\n",
      "Requirement already satisfied: sympy in /usr/lib/python3/dist-packages (from torch>=1.6.0->OpenNMT-py==1.2.0) (1.9)\n",
      "Requirement already satisfied: nvidia-cusparse-cu12==12.1.0.106 in /home/bitmap4/.local/lib/python3.10/site-packages (from torch>=1.6.0->OpenNMT-py==1.2.0) (12.1.0.106)\n",
      "Requirement already satisfied: nvidia-curand-cu12==10.3.2.106 in /home/bitmap4/.local/lib/python3.10/site-packages (from torch>=1.6.0->OpenNMT-py==1.2.0) (10.3.2.106)\n",
      "Requirement already satisfied: filelock in /home/bitmap4/.local/lib/python3.10/site-packages (from torch>=1.6.0->OpenNMT-py==1.2.0) (3.14.0)\n",
      "Requirement already satisfied: nvidia-nccl-cu12==2.19.3 in /home/bitmap4/.local/lib/python3.10/site-packages (from torch>=1.6.0->OpenNMT-py==1.2.0) (2.19.3)\n",
      "Requirement already satisfied: nvidia-cublas-cu12==12.1.3.1 in /home/bitmap4/.local/lib/python3.10/site-packages (from torch>=1.6.0->OpenNMT-py==1.2.0) (12.1.3.1)\n",
      "Requirement already satisfied: jinja2 in /home/bitmap4/.local/lib/python3.10/site-packages (from torch>=1.6.0->OpenNMT-py==1.2.0) (3.1.2)\n",
      "Requirement already satisfied: nvidia-nvjitlink-cu12 in /home/bitmap4/.local/lib/python3.10/site-packages (from nvidia-cusolver-cu12==11.4.5.107->torch>=1.6.0->OpenNMT-py==1.2.0) (12.4.127)\n",
      "Requirement already satisfied: itsdangerous>=2.1.2 in /home/bitmap4/.local/lib/python3.10/site-packages (from flask->OpenNMT-py==1.2.0) (2.1.2)\n",
      "Requirement already satisfied: blinker>=1.6.2 in /home/bitmap4/.local/lib/python3.10/site-packages (from flask->OpenNMT-py==1.2.0) (1.7.0)\n",
      "Requirement already satisfied: click>=8.1.3 in /home/bitmap4/.local/lib/python3.10/site-packages (from flask->OpenNMT-py==1.2.0) (8.1.7)\n",
      "Requirement already satisfied: MarkupSafe>=2.0 in /home/bitmap4/.local/lib/python3.10/site-packages (from jinja2->torch>=1.6.0->OpenNMT-py==1.2.0) (2.1.3)\n",
      "Requirement already satisfied: idna<4,>=2.5 in /home/bitmap4/.local/lib/python3.10/site-packages (from requests->torchtext==0.4.0->OpenNMT-py==1.2.0) (3.4)\n",
      "Requirement already satisfied: charset-normalizer<4,>=2 in /home/bitmap4/.local/lib/python3.10/site-packages (from requests->torchtext==0.4.0->OpenNMT-py==1.2.0) (3.3.2)\n",
      "Requirement already satisfied: urllib3<3,>=1.21.1 in /home/bitmap4/.local/lib/python3.10/site-packages (from requests->torchtext==0.4.0->OpenNMT-py==1.2.0) (1.26.18)\n",
      "Requirement already satisfied: certifi>=2017.4.17 in /home/bitmap4/.local/lib/python3.10/site-packages (from requests->torchtext==0.4.0->OpenNMT-py==1.2.0) (2023.7.22)\n",
      "Installing collected packages: future, torchtext, OpenNMT-py\n",
      "  Attempting uninstall: OpenNMT-py\n",
      "    Found existing installation: OpenNMT-py 3.5.1\n",
      "    Uninstalling OpenNMT-py-3.5.1:\n",
      "      Successfully uninstalled OpenNMT-py-3.5.1\n",
      "Successfully installed OpenNMT-py-1.2.0 future-1.0.0 torchtext-0.4.0\n"
     ]
    }
   ],
   "source": [
    "!pip3 install OpenNMT-py==1.2.0"
   ]
  },
  {
   "cell_type": "code",
   "execution_count": 45,
   "metadata": {},
   "outputs": [],
   "source": [
    "import requests\n",
    "\n",
    "def get_forms(sysID, lang, lemma_tags_set):\n",
    "    \"\"\"lemma_tags_set: `[{\"lemma\": \"go\", \"tags\": \"V;PST\"}, ...]`\"\"\"\n",
    "    \n",
    "    request_data = {\n",
    "        \"sysID\": sysID,\n",
    "        \"lang\": lang,\n",
    "        \"data\": lemma_tags_set\n",
    "    }\n",
    "    response = requests.post('https://test2.kurdinus.com/oracle/GetForms', json=request_data)\n",
    "    if response.status_code == 200:\n",
    "        return response.content.decode()\n",
    "    else:\n",
    "        return \"#FAILED: \" + str(response.status_code)"
   ]
  },
  {
   "cell_type": "code",
   "execution_count": 46,
   "metadata": {},
   "outputs": [],
   "source": [
    "def check_forms(sysID, lang, lemma_form_tags_set):\n",
    "    \"\"\"lemma_forms_tags_set: `[{\"lemma\": \"go\", \"form\": \"goed\", \"tags\": \"V;PST\"}, ...]`\"\"\"\n",
    "    \n",
    "    request_data = {\n",
    "        \"sysID\": sysID,\n",
    "        \"lang\": lang,\n",
    "        \"data\": lemma_form_tags_set\n",
    "    }\n",
    "    response = requests.post('https://test2.kurdinus.com/oracle/CheckForms', json=request_data)\n",
    "    print(response)\n",
    "    if response.status_code == 200:\n",
    "        return response.content.decode()\n",
    "    else:\n",
    "        return \"#FAILED: \" + str(response.status_code)"
   ]
  },
  {
   "cell_type": "code",
   "execution_count": 47,
   "metadata": {},
   "outputs": [],
   "source": [
    "import pandas as pd\n",
    "import random\n",
    "\n",
    "file = pd.read_csv('lat.tsv', sep='\\t', header=None).values.tolist()\n",
    "\n",
    "def get_data(rows, function):\n",
    "    \"\"\"rows: `[[lemma, form(if checking data), tags], ...]`\n",
    "    output: `[\"lemma\\\\t form\\\\t tags\", ...]`\"\"\"\n",
    "\n",
    "    lemma_forms_tags_set = []\n",
    "    for row in rows:\n",
    "        if row in file: file.remove(row)\n",
    "        lemma_forms_tags_set.append({\"lemma\": row[0], \"form\": row[1], \"tags\": row[-1]})\n",
    "\n",
    "    oracle_data = function(\"fumo_test8\", \"lat\", lemma_forms_tags_set).split('\\n')[:-1]\n",
    "    return oracle_data"
   ]
  },
  {
   "cell_type": "code",
   "execution_count": 48,
   "metadata": {},
   "outputs": [
    {
     "name": "stdout",
     "output_type": "stream",
     "text": [
      "['apprēnsō\\tapprēnsābis\\tV;IND;ACT;FUT;2;SG', 'congaudeō\\tcongaudet\\tV;IND;ACT;PRS;3;SG', 'adprēnsō\\tadprēnsāberis\\tV;IND;PASS;FUT;2;SG', 'abhorrēscō\\tabhorrēscēbātis\\tV;IND;ACT;PST;IPFV;2;PL', 'attestor\\tattestābāris\\tV;IND;ACT;PST;IPFV;2;SG']\n"
     ]
    }
   ],
   "source": [
    "\n",
    "rows = random.sample(file, 1000)\n",
    "\n",
    "# split 90-10 into train and dev\n",
    "oracle_data = get_data(rows, get_forms)\n",
    "train_data = oracle_data[:int(len(oracle_data)*0.9)]\n",
    "dev_data = oracle_data[int(len(oracle_data)*0.9):]\n",
    "print(oracle_data[:5])"
   ]
  },
  {
   "cell_type": "code",
   "execution_count": 49,
   "metadata": {},
   "outputs": [],
   "source": [
    "def create_data_files(name, data):\n",
    "    \"\"\"data: `[\"lemma\\\\t form\\\\t tags\", ...]`\n",
    "    output: `name.src`, `name.tgt` files with the data in this format: `g o # V PST` and `w e n t`\"\"\"\n",
    "    train_src = open(f'data/{name}.src', 'w')\n",
    "    train_tgt = open(f'data/{name}.tgt', 'w')\n",
    "    for result in data:\n",
    "        if type(result) == str: result = result.split('\\t')\n",
    "        if len(result) == 2:\n",
    "            lemma, tags = result\n",
    "            word = ''\n",
    "        else:\n",
    "            lemma, word, tags = result\n",
    "        src = ' '.join(list(lemma)) + \" # \" + ' '.join(tags.split(';'))\n",
    "        tgt = ' '.join(list(word))\n",
    "        train_src.write(src + '\\n')\n",
    "        train_tgt.write(tgt + '\\n')\n",
    "    train_src.close()\n",
    "    train_tgt.close()"
   ]
  },
  {
   "cell_type": "code",
   "execution_count": 50,
   "metadata": {},
   "outputs": [],
   "source": [
    "create_data_files('train', train_data)\n",
    "create_data_files('dev', dev_data)"
   ]
  },
  {
   "cell_type": "code",
   "execution_count": 51,
   "metadata": {},
   "outputs": [
    {
     "name": "stdout",
     "output_type": "stream",
     "text": [
      "[2024-05-07 21:53:43,436 INFO] Extracting features...\n",
      "[2024-05-07 21:53:43,446 INFO]  * number of source features: 0.\n",
      "[2024-05-07 21:53:43,446 INFO]  * number of target features: 0.\n",
      "[2024-05-07 21:53:43,446 INFO] Building `Fields` object...\n",
      "[2024-05-07 21:53:43,446 INFO] Building & saving training data...\n",
      "[2024-05-07 21:53:43,452 WARNING] Shards for corpus train already exist, will be overwritten because `-overwrite` option is set.\n",
      "[2024-05-07 21:53:43,468 WARNING] Overwrite shards for corpus None\n",
      "[2024-05-07 21:53:43,523 INFO] Building shard 0.\n",
      "[2024-05-07 21:53:43,542 INFO]  * saving 0th train data shard to run/data.train.0.pt.\n",
      "[2024-05-07 21:53:43,777 INFO]  * tgt vocab size: 36.\n",
      "[2024-05-07 21:53:43,778 INFO]  * src vocab size: 48.\n",
      "[2024-05-07 21:53:43,822 INFO] Building & saving validation data...\n",
      "[2024-05-07 21:53:43,825 WARNING] Shards for corpus valid already exist, will be overwritten because `-overwrite` option is set.\n",
      "[2024-05-07 21:53:43,837 WARNING] Overwrite shards for corpus None\n",
      "[2024-05-07 21:53:45,026 INFO] Building shard 0.\n",
      "[2024-05-07 21:53:45,028 INFO]  * saving 0th valid data shard to run/data.valid.0.pt.\n"
     ]
    }
   ],
   "source": [
    "!onmt_preprocess -train_src data/train.src -train_tgt data/train.tgt -valid_src data/dev.src -valid_tgt data/dev.tgt -save_data run/data -overwrite"
   ]
  },
  {
   "cell_type": "code",
   "execution_count": 52,
   "metadata": {},
   "outputs": [],
   "source": [
    "%%capture cap1 --no-stderr\n",
    "!onmt_train -data run/data -save_model run/model -encoder_type rnn -rnn_type LSTM -rnn_size 128 -layers 1 -word_vec_size 128 -save_checkpoint_steps 200 -valid_steps 200 -early_stopping 2\n",
    "with open('train.log', 'w') as f:\n",
    "    f.write(cap1.stdout)"
   ]
  },
  {
   "cell_type": "code",
   "execution_count": 61,
   "metadata": {},
   "outputs": [],
   "source": [
    "%%capture cap2 --no-stderr\n",
    "!onmt_translate -model run/model_step_1000.pt -src data/dev.src -output data/dev.hyp -replace_unk -verbose\n",
    "with open('pred_scores.log', 'w') as f:\n",
    "    f.write(cap2.stdout)"
   ]
  },
  {
   "cell_type": "code",
   "execution_count": 62,
   "metadata": {},
   "outputs": [
    {
     "name": "stdout",
     "output_type": "stream",
     "text": [
      "Accuracy: 79 / 100   0.79\n",
      "Character edit distance 0.46\n",
      "mētiuntur -> mētīuntur\n",
      "supant -> supāus\n",
      "foetēbuntur -> fotēbuntur\n",
      "olēbās -> olōēbās\n",
      "urvābat -> urveābat\n",
      "cunient -> cunībunt\n",
      "oreris -> orieris\n",
      "glabrō -> glabrās\n",
      "immorāberis -> immormorāberis\n",
      "caurītis -> cauriētis\n",
      "expetessor -> expetessēor\n",
      "aporiāberis -> aporiēris\n",
      "cōnfit -> cōnfīt\n",
      "cooperor -> coperārur\n",
      "foetentur -> fotīuntur\n",
      "faetēbantur -> faeteēbantur\n",
      "dēpangis -> dēpangīs\n",
      "remūgient -> remūgībunt\n",
      "dēmōlientur -> dēmōlībuntur\n",
      "praecognōscēbat -> praecābat\n",
      "pigritābāris -> pitritābāris\n"
     ]
    }
   ],
   "source": [
    "!julia evaluate.jl data/dev.tgt data/dev.hyp"
   ]
  },
  {
   "cell_type": "code",
   "execution_count": 63,
   "metadata": {},
   "outputs": [],
   "source": [
    "import re\n",
    "\n",
    "def get_sorted(text = None):\n",
    "    if text==None: \n",
    "        with open('pred_scores.log', 'r') as file:\n",
    "            lines = file.readlines()\n",
    "    else: lines = text.split('\\n')\n",
    "\n",
    "    data = []\n",
    "    lemma = ''\n",
    "    tags = ''\n",
    "    score = 0\n",
    "    for i in range(len(lines)):\n",
    "        if lines[i].startswith('SENT'):\n",
    "            lemma_tags = re.findall(r'\\[\\'(.*)\\'\\]', lines[i])[0]\n",
    "            lemma, tags = lemma_tags.split('#')\n",
    "            lemma = lemma.replace(\"'\", '').replace(', ', '')\n",
    "            tags = tags.replace(\"'\", '').replace(', ', ';')[1:]\n",
    "        elif lines[i].startswith('PRED SCORE'):\n",
    "            score = float(lines[i].split(':')[1].strip())\n",
    "        elif lines[i].startswith('PRED'):\n",
    "            prediction = lines[i].split(':')[1].strip().replace(' ', '')\n",
    "            data.append((lemma, prediction, tags, score))\n",
    "\n",
    "    data.sort(key=lambda x: x[3])\n",
    "    return data"
   ]
  },
  {
   "cell_type": "code",
   "execution_count": 64,
   "metadata": {},
   "outputs": [],
   "source": [
    "%%capture cap3 --no-stderr\n",
    "create_data_files(\"test\", file)\n",
    "!onmt_translate -model run/model_step_1000.pt -src data/test.src -output data/test.hyp -replace_unk -verbose\n",
    "with open('pred_scores.log', 'w') as f:\n",
    "    f.write(cap3.stdout)"
   ]
  },
  {
   "cell_type": "code",
   "execution_count": 69,
   "metadata": {},
   "outputs": [
    {
     "name": "stderr",
     "output_type": "stream",
     "text": [
      "UsageError: Line magic function `%%capture` not found.\n"
     ]
    }
   ],
   "source": [
    "%%capture cap2 --no-stderr\n",
    "# now predict all data in `file`\n",
    "# with open('pred_scores.log', 'w') as f:\n",
    "#     f.write('')\n",
    "\n",
    "results = []\n",
    "\n",
    "for i in range(len(file)//100):\n",
    "    create_data_files(\"test\", file[100*i : len(file) if 100*(i+1)>len(file) else 100*(i+1)])\n",
    "    %%capture cap2 --no-stderr\n",
    "    !onmt_translate -model run/model_step_1000.pt -src data/test.src -output data/test.hyp -replace_unk -verbose\n",
    "    data = cap2.stdout\n",
    "    data = [x[:-1] for x in get_sorted(data)]\n",
    "    results += get_data(data, check_forms)\n"
   ]
  },
  {
   "cell_type": "code",
   "execution_count": null,
   "metadata": {},
   "outputs": [],
   "source": []
  }
 ],
 "metadata": {
  "kernelspec": {
   "display_name": "Python 3",
   "language": "python",
   "name": "python3"
  },
  "language_info": {
   "codemirror_mode": {
    "name": "ipython",
    "version": 3
   },
   "file_extension": ".py",
   "mimetype": "text/x-python",
   "name": "python",
   "nbconvert_exporter": "python",
   "pygments_lexer": "ipython3",
   "version": "3.10.12"
  }
 },
 "nbformat": 4,
 "nbformat_minor": 2
}
